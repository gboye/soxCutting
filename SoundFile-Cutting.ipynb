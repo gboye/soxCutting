{
 "cells": [
  {
   "cell_type": "markdown",
   "metadata": {},
   "source": [
    "# Découpage de SoundFile en segments successifs "
   ]
  },
  {
   "cell_type": "code",
   "execution_count": 1,
   "metadata": {},
   "outputs": [],
   "source": [
    "from pydub import AudioSegment"
   ]
  },
  {
   "cell_type": "code",
   "execution_count": 9,
   "metadata": {},
   "outputs": [
    {
     "name": "stdout",
     "output_type": "stream",
     "text": [
      "14\n"
     ]
    }
   ],
   "source": [
    "repWav=\"/Users/gilles/pCloud Drive/FOD/GB/Copy/Recherche/Rugby/\"\n",
    "repExtraits=\"/Users/gilles/Github/AMBK-SportsCom/Whisper/Extrait/\"\n",
    "wav=repWav+\"France_Argentine_match.wav\"\n",
    "\n",
    "repWav=\"/Users/gilles/sDrive/Cours/Bordeaux/L2-Corpus/Whisper/Segmenter/\"\n",
    "repExtraits=\"/Users/gilles/sDrive/Cours/Bordeaux/L2-Corpus/Whisper/Segmenter/Segments/\"\n",
    "wav=repWav+\"ina_maternelle.mp3\"\n",
    "\n",
    "sound=AudioSegment.from_mp3(wav)\n",
    "minutes=int(sound.duration_seconds/60)+1\n",
    "print (minutes)"
   ]
  },
  {
   "cell_type": "markdown",
   "metadata": {},
   "source": [
    "## Cutting\n",
    "- l'objet AudioSegment est indexé en ms\n",
    "- on extrait des segments superposés pour faire la couture des sous-titres"
   ]
  },
  {
   "cell_type": "code",
   "execution_count": 10,
   "metadata": {},
   "outputs": [
    {
     "name": "stdout",
     "output_type": "stream",
     "text": [
      "0 0 120000\n",
      "1 60000 180000\n",
      "2 120000 240000\n",
      "3 180000 300000\n",
      "4 240000 360000\n",
      "5 300000 420000\n",
      "6 360000 480000\n",
      "7 420000 540000\n",
      "8 480000 600000\n",
      "9 540000 660000\n",
      "10 600000 720000\n",
      "11 660000 780000\n",
      "12 720000 840000\n",
      "13 780000 900000\n"
     ]
    }
   ],
   "source": [
    "long=2\n",
    "for s in range(minutes):\n",
    "    print(s,s*60*1000,(s+long)*60*1000)\n",
    "    extrait=sound[s*60*1000:(s+long)*60*1000]\n",
    "    fExtrait=repExtraits+\"extrait-%02d.wav\"%(s)\n",
    "    extrait.export(fExtrait, format=\"wav\")\n",
    "    "
   ]
  }
 ],
 "metadata": {
  "kernelspec": {
   "display_name": "Python 3 (ipykernel)",
   "language": "python",
   "name": "python3"
  },
  "language_info": {
   "codemirror_mode": {
    "name": "ipython",
    "version": 3
   },
   "file_extension": ".py",
   "mimetype": "text/x-python",
   "name": "python",
   "nbconvert_exporter": "python",
   "pygments_lexer": "ipython3",
   "version": "3.11.7"
  }
 },
 "nbformat": 4,
 "nbformat_minor": 4
}
