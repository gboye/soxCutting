{
 "cells": [
  {
   "cell_type": "markdown",
   "metadata": {},
   "source": [
    "# Découpage de SoundFile en segments successifs "
   ]
  },
  {
   "cell_type": "code",
   "execution_count": 13,
   "metadata": {},
   "outputs": [
    {
     "name": "stdout",
     "output_type": "stream",
     "text": [
      "iMac\n"
     ]
    }
   ],
   "source": [
    "from pydub import AudioSegment\n",
    "import glob,os\n",
    "nMachine=os.uname()[1]\n",
    "if \"iMac\" in nMachine:\n",
    "    nMachine=\"iMac\"\n",
    "elif \"MacBook\" in nMachine:\n",
    "    nMachine=\"MacBook\"\n",
    "print(nMachine)"
   ]
  },
  {
   "cell_type": "code",
   "execution_count": 14,
   "metadata": {},
   "outputs": [
    {
     "name": "stdout",
     "output_type": "stream",
     "text": [
      "11\n"
     ]
    }
   ],
   "source": [
    "repSound=\"/Users/gilles/sDrive/Cours/Bordeaux/L2-Corpus/Whisper/%s/\"%nMachine\n",
    "repExtraits=\"/Users/gilles/sDrive/Cours/Bordeaux/L2-Corpus/Whisper/%s/Segments/\"%nMachine\n",
    "\n",
    "sons=glob.glob(repSound+\"*.wav\")\n",
    "if sons:\n",
    "    sound=AudioSegment.from_wav(sons[0])\n",
    "else:\n",
    "    sons=glob.glob(repSound+\"*.mp3\")\n",
    "    sound=AudioSegment.from_mp3(sons[0])\n",
    "\n",
    "minutes=int(sound.duration_seconds/60)+1\n",
    "print (minutes)"
   ]
  },
  {
   "cell_type": "markdown",
   "metadata": {},
   "source": [
    "## Cutting\n",
    "- l'objet AudioSegment est indexé en ms\n",
    "- on extrait des segments superposés pour faire la couture des sous-titres"
   ]
  },
  {
   "cell_type": "code",
   "execution_count": 15,
   "metadata": {},
   "outputs": [
    {
     "name": "stdout",
     "output_type": "stream",
     "text": [
      "0 0 120000\n",
      "1 60000 180000\n",
      "2 120000 240000\n",
      "3 180000 300000\n",
      "4 240000 360000\n",
      "5 300000 420000\n",
      "6 360000 480000\n",
      "7 420000 540000\n",
      "8 480000 600000\n",
      "9 540000 660000\n",
      "10 600000 720000\n"
     ]
    }
   ],
   "source": [
    "long=2\n",
    "for s in range(minutes):\n",
    "    print(s,s*60*1000,(s+long)*60*1000)\n",
    "    extrait=sound[s*60*1000:(s+long)*60*1000]\n",
    "    fExtrait=repExtraits+\"extrait-%02d.wav\"%(s)\n",
    "    extrait.export(fExtrait, format=\"wav\")\n",
    "    "
   ]
  },
  {
   "cell_type": "code",
   "execution_count": null,
   "metadata": {},
   "outputs": [],
   "source": []
  }
 ],
 "metadata": {
  "kernelspec": {
   "display_name": "Python 3 (ipykernel)",
   "language": "python",
   "name": "python3"
  },
  "language_info": {
   "codemirror_mode": {
    "name": "ipython",
    "version": 3
   },
   "file_extension": ".py",
   "mimetype": "text/x-python",
   "name": "python",
   "nbconvert_exporter": "python",
   "pygments_lexer": "ipython3",
   "version": "3.11.8"
  }
 },
 "nbformat": 4,
 "nbformat_minor": 4
}
