{
 "cells": [
  {
   "cell_type": "code",
   "execution_count": 1,
   "metadata": {
    "collapsed": true
   },
   "outputs": [],
   "source": [
    "from pydub import AudioSegment\n",
    "from lxml import etree\n",
    "import glob,codecs"
   ]
  },
  {
   "cell_type": "code",
   "execution_count": 2,
   "metadata": {
    "collapsed": true
   },
   "outputs": [],
   "source": [
    "parser = etree.XMLParser(remove_blank_text=True)"
   ]
  },
  {
   "cell_type": "code",
   "execution_count": 3,
   "metadata": {
    "collapsed": true
   },
   "outputs": [],
   "source": [
    "sound = AudioSegment.from_mp3(\"test.mp3\")"
   ]
  },
  {
   "cell_type": "code",
   "execution_count": 4,
   "metadata": {},
   "outputs": [
    {
     "name": "stdout",
     "output_type": "stream",
     "text": [
      "0.0 13.017\n",
      "Elève numéro un dix ans\n",
      "Qu'est-ce que tu as fait ce weekend?\n",
      "Beh/\n",
      "j'ai joué au foot\n",
      "jsuis\n",
      "j'ai joué à la tablette\n",
      "j'ai regardé la télévision\n",
      "13.017 24.116\n",
      "J'ai fait mes devoirs\n",
      "J'ai pris un bain\n",
      "je suis allé au full-contact\n",
      "24.116 42.71\n",
      "Qu'est-ce que tu as fait aux vacances de Toussaint?\n",
      "Je suis allé chez mon meilleur ami\n",
      "on a joué à la\n",
      "PS4\n",
      "on est allé au stade de de\n",
      "Camarsac\n",
      "on est\n",
      "on a fait du vélo\n",
      "on a fait un grand tour\n",
      "42.71 54.287\n",
      "On a joué avec ses petits\n",
      "frères\n",
      "on a rigolé quoi\n",
      "après\n",
      "on a\n",
      "On est allé courir\n",
      "après\n",
      "je suis rentré chez moi\n",
      "54.287 65.099\n",
      "Je suis allé chez mon\n",
      "père\n",
      "On est\n",
      "on a fait de la moto\n",
      "Après\n",
      "on est rentré on a\n",
      "on est allé au restaurant\n",
      "65.099 76.89\n",
      "Après\n",
      "on est on est\n",
      "après\n",
      "le restaurant on est rentré\n",
      "Après\n",
      "on a regardé un film on a mangé du popcorn\n",
      "le lendemain\n"
     ]
    }
   ],
   "source": [
    "nom=\"test.trs\"\n",
    "nomTxtSortie=\"test-%03d.txt\"\n",
    "nomSonSortie=nomTxtSortie.replace(\".txt\",\".mp3\")\n",
    "xmlTRS=etree.parse(nom,parser)\n",
    "numBlock=0\n",
    "startBlock=0.0\n",
    "endBlock=0.0\n",
    "ligneTexte=[]\n",
    "for ligne in xmlTRS.xpath(\"//Turn\"):\n",
    "    startTurn=float(ligne.attrib[\"startTime\"])\n",
    "    if startTurn>startBlock+10:\n",
    "        print startBlock,endBlock\n",
    "        nomSon=nomSonSortie%numBlock\n",
    "        extrait=sound[int(startBlock*1000):int(endBlock*1000)]\n",
    "        extrait.export(nomSon, format=\"mp3\")\n",
    "        startBlock=startTurn\n",
    "        print \"\\n\".join(ligneTexte)\n",
    "        nomTxt=nomTxtSortie%numBlock\n",
    "        with codecs.open(nomTxt,\"w\", encoding=\"utf8\") as output:\n",
    "            for l in ligneTexte:\n",
    "                output.write(l+\"\\n\")\n",
    "        ligneTexte=[]\n",
    "        numBlock+=1\n",
    "    endBlock=float(ligne.attrib[\"endTime\"])\n",
    "    ligneTexte.extend([l.strip() for l in ligne.xpath(\".//text()\") if l.strip()!=\"\"])\n"
   ]
  }
 ],
 "metadata": {
  "kernelspec": {
   "display_name": "Python 2",
   "language": "python",
   "name": "python2"
  },
  "language_info": {
   "codemirror_mode": {
    "name": "ipython",
    "version": 2
   },
   "file_extension": ".py",
   "mimetype": "text/x-python",
   "name": "python",
   "nbconvert_exporter": "python",
   "pygments_lexer": "ipython2",
   "version": "2.7.15"
  }
 },
 "nbformat": 4,
 "nbformat_minor": 2
}
